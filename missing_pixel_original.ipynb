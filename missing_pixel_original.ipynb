{
 "cells": [
  {
   "cell_type": "code",
   "execution_count": 2,
   "metadata": {
    "colab": {
     "base_uri": "https://localhost:8080/"
    },
    "id": "FgJjOnohaU1F",
    "outputId": "dbd75c7d-fbdf-4d38-cbcc-cc6164f022b8"
   },
   "outputs": [],
   "source": [
    "# !git clone https://github.com/dmc27/missing_pixels.git"
   ]
  },
  {
   "cell_type": "code",
   "execution_count": 1,
   "metadata": {
    "id": "-TrLL-7WrfUW"
   },
   "outputs": [],
   "source": [
    "import cv2 as cv\n",
    "import numpy as np\n",
    "from tqdm import tqdm\n",
    "from os import listdir\n",
    "from os.path import isfile, join\n",
    "from sklearn.metrics import accuracy_score\n",
    "\n",
    "# import tensorflow as tf\n",
    "# from tensorflow import keras\n",
    "# from tensorflow.keras.models import Sequential\n",
    "# from tensorflow.keras.layers import Dense\n",
    "# from tensorflow.keras.models import load_model\n",
    "# from tensorflow.keras.callbacks import ModelCheckpoint\n",
    "import torch\n",
    "import torchvision\n",
    "import torch.nn as nn\n",
    "import torch.optim as optim\n",
    "import torch.nn.functional as F\n",
    "from torchvision import transforms as T\n",
    "from torch.utils.data import DataLoader\n",
    "from torch.utils.data import Dataset\n",
    "from torch.optim.lr_scheduler import StepLR\n",
    "\n",
    "\n",
    "from utils.utils import *\n",
    "from utils.database import MissingPixelDataset\n",
    "from model.architecture import *\n",
    "\n",
    "\n",
    "import warnings\n",
    "warnings.filterwarnings('ignore')\n",
    "\n",
    "plt.rcParams[\"figure.dpi\"] = 120\n",
    "\n",
    "from IPython.display import HTML\n",
    "shell = get_ipython()\n",
    "\n",
    "def adjust_font_size():\n",
    "  display(HTML('''<style>\n",
    "    body {\n",
    "      font-size: 16px;\n",
    "    }\n",
    "  '''))\n",
    "\n",
    "if adjust_font_size not in shell.events.callbacks['pre_execute']:\n",
    "  shell.events.register('pre_execute', adjust_font_size)\n",
    "\n",
    "\n",
    "\n",
    "BLOCK_SIZE = 8\n",
    "BATCH_SIZE = 512\n",
    "NUM_EPOCHS = 50\n",
    "LEARNING_RATE = 1e-5\n",
    "# WEIGHT_DECAY = 0.05\n",
    "STEPLR_GAMMA = 0.1\n",
    "RUN_UTILITY = False\n",
    "USE_PRETRAINED = False\n",
    "\n",
    "IMG_PATH = './dataset/original_image/'\n",
    "IMG_TRAINING_PATH = './dataset/training_image/train/'\n",
    "IMG_SAVE_PATH = './dataset/missing_pixel/'"
   ]
  },
  {
   "cell_type": "code",
   "execution_count": 2,
   "metadata": {},
   "outputs": [
    {
     "data": {
      "text/html": [
       "<style>\n",
       "    body {\n",
       "      font-size: 16px;\n",
       "    }\n",
       "  "
      ],
      "text/plain": [
       "<IPython.core.display.HTML object>"
      ]
     },
     "metadata": {},
     "output_type": "display_data"
    }
   ],
   "source": [
    "if RUN_UTILITY:\n",
    "    create_dataset_autoencoder(IMG_PATH, IMG_SAVE_PATH, BLOCK_SIZE, img_size=(256, 256))"
   ]
  },
  {
   "cell_type": "code",
   "execution_count": 3,
   "metadata": {},
   "outputs": [
    {
     "data": {
      "text/html": [
       "<style>\n",
       "    body {\n",
       "      font-size: 16px;\n",
       "    }\n",
       "  "
      ],
      "text/plain": [
       "<IPython.core.display.HTML object>"
      ]
     },
     "metadata": {},
     "output_type": "display_data"
    },
    {
     "name": "stderr",
     "output_type": "stream",
     "text": [
      "100%|██████████| 1000/1000 [00:00<00:00, 1702.85it/s]\n",
      "100%|██████████| 10000/10000 [00:09<00:00, 1087.11it/s]\n"
     ]
    }
   ],
   "source": [
    "# Calling PrepareDataset class in the utilities for preparing the dataset for training,\n",
    "# X is the input to the network architecture, and y is the target output of the network\n",
    "data = PrepareDataset(IMG_TRAINING_PATH, IMG_SAVE_PATH, block_size=BLOCK_SIZE)\n",
    "X, y = data.create_dataset_original(sample_size = 10000)\n",
    "\n",
    "\n",
    "# Creating dataset for the pytorch model (converted to tensor)\n",
    "train_dataset = MissingPixelDataset(X, y, scaling=False)\n",
    "\n",
    "\n",
    "# Create training dataloader to make a batch learning for the pytorch model\n",
    "train_dataloader = DataLoader(train_dataset, shuffle=True, num_workers=0, batch_size=BATCH_SIZE)"
   ]
  },
  {
   "cell_type": "code",
   "execution_count": 4,
   "metadata": {},
   "outputs": [
    {
     "data": {
      "text/html": [
       "<style>\n",
       "    body {\n",
       "      font-size: 16px;\n",
       "    }\n",
       "  "
      ],
      "text/plain": [
       "<IPython.core.display.HTML object>"
      ]
     },
     "metadata": {},
     "output_type": "display_data"
    },
    {
     "name": "stdout",
     "output_type": "stream",
     "text": [
      "Using cuda device\n"
     ]
    }
   ],
   "source": [
    "device = 'cuda' if torch.cuda.is_available() else \"mps\" if torch.backends.mps.is_available() else \"cpu\"\n",
    "print(f\"Using {device} device\")"
   ]
  },
  {
   "cell_type": "code",
   "execution_count": 5,
   "metadata": {},
   "outputs": [
    {
     "data": {
      "text/html": [
       "<style>\n",
       "    body {\n",
       "      font-size: 16px;\n",
       "    }\n",
       "  "
      ],
      "text/plain": [
       "<IPython.core.display.HTML object>"
      ]
     },
     "metadata": {},
     "output_type": "display_data"
    },
    {
     "data": {
      "text/plain": [
       "2"
      ]
     },
     "execution_count": 5,
     "metadata": {},
     "output_type": "execute_result"
    }
   ],
   "source": [
    "torch.cuda.device_count()"
   ]
  },
  {
   "cell_type": "code",
   "execution_count": 6,
   "metadata": {},
   "outputs": [
    {
     "data": {
      "text/html": [
       "<style>\n",
       "    body {\n",
       "      font-size: 16px;\n",
       "    }\n",
       "  "
      ],
      "text/plain": [
       "<IPython.core.display.HTML object>"
      ]
     },
     "metadata": {},
     "output_type": "display_data"
    }
   ],
   "source": [
    "model = OriginalModel().double().to(device)\n",
    "criterion = nn.MSELoss()\n",
    "optimizer = optim.Adam(model.parameters(), lr = LEARNING_RATE)\n",
    "# scheduler = StepLR(optimizer, step_size=50, gamma=STEPLR_GAMMA, verbose=True)"
   ]
  },
  {
   "cell_type": "code",
   "execution_count": 7,
   "metadata": {},
   "outputs": [
    {
     "data": {
      "text/html": [
       "<style>\n",
       "    body {\n",
       "      font-size: 16px;\n",
       "    }\n",
       "  "
      ],
      "text/plain": [
       "<IPython.core.display.HTML object>"
      ]
     },
     "metadata": {},
     "output_type": "display_data"
    }
   ],
   "source": [
    "def train(model, device, train_loader, optimizer, criterion, epoch):\n",
    "    model.train()\n",
    "    \n",
    "    train_loss = 0\n",
    "    pbar = tqdm(train_loader)\n",
    "    for batch_idx, (X_train, y_train) in enumerate(pbar):\n",
    "        X_train, y_train = X_train.to(device), y_train.to(device)\n",
    "        \n",
    "        output = model(X_train)\n",
    "        \n",
    "        loss = criterion(output, y_train)\n",
    "        train_loss += loss.item()\n",
    "\n",
    "        optimizer.zero_grad()\n",
    "        loss.backward()\n",
    "        optimizer.step()\n",
    "        \n",
    "        \n",
    "        \n",
    "        pbar.set_description(desc= f'Epoch {epoch} loss={loss.item()} batch_id={batch_idx}')\n",
    "    \n",
    "    train_loss /= len(train_loader.dataset)\n",
    "\n",
    "    print('Train set: Average loss: {:.32f}'.format(train_loss))"
   ]
  },
  {
   "cell_type": "code",
   "execution_count": 8,
   "metadata": {},
   "outputs": [
    {
     "data": {
      "text/html": [
       "<style>\n",
       "    body {\n",
       "      font-size: 16px;\n",
       "    }\n",
       "  "
      ],
      "text/plain": [
       "<IPython.core.display.HTML object>"
      ]
     },
     "metadata": {},
     "output_type": "display_data"
    }
   ],
   "source": [
    "if USE_PRETRAINED:\n",
    "    model.load_state_dict(torch.load('./trained_model/convmodel_30k_0.pth'))"
   ]
  },
  {
   "cell_type": "code",
   "execution_count": 9,
   "metadata": {},
   "outputs": [
    {
     "data": {
      "text/html": [
       "<style>\n",
       "    body {\n",
       "      font-size: 16px;\n",
       "    }\n",
       "  "
      ],
      "text/plain": [
       "<IPython.core.display.HTML object>"
      ]
     },
     "metadata": {},
     "output_type": "display_data"
    },
    {
     "name": "stderr",
     "output_type": "stream",
     "text": [
      "Epoch 1 loss=0.0023778597018026437 batch_id=19999: 100%|██████████| 20000/20000 [01:25<00:00, 234.32it/s]\n"
     ]
    },
    {
     "name": "stdout",
     "output_type": "stream",
     "text": [
      "Train set: Average loss: 0.00002359869711614274878793383328\n"
     ]
    },
    {
     "name": "stderr",
     "output_type": "stream",
     "text": [
      "Epoch 2 loss=0.003179702719389035 batch_id=19999: 100%|██████████| 20000/20000 [01:12<00:00, 277.32it/s] \n"
     ]
    },
    {
     "name": "stdout",
     "output_type": "stream",
     "text": [
      "Train set: Average loss: 0.00000478441437542960117470808995\n"
     ]
    },
    {
     "name": "stderr",
     "output_type": "stream",
     "text": [
      "Epoch 3 loss=0.0024411555090337674 batch_id=19999: 100%|██████████| 20000/20000 [01:12<00:00, 276.49it/s]\n"
     ]
    },
    {
     "name": "stdout",
     "output_type": "stream",
     "text": [
      "Train set: Average loss: 0.00000463090078129551218944241417\n"
     ]
    },
    {
     "name": "stderr",
     "output_type": "stream",
     "text": [
      "Epoch 4 loss=0.0021625675623124377 batch_id=19999: 100%|██████████| 20000/20000 [01:12<00:00, 276.47it/s]\n"
     ]
    },
    {
     "name": "stdout",
     "output_type": "stream",
     "text": [
      "Train set: Average loss: 0.00000454398091254568089412393603\n"
     ]
    },
    {
     "name": "stderr",
     "output_type": "stream",
     "text": [
      "Epoch 5 loss=0.002623415047081055 batch_id=19999: 100%|██████████| 20000/20000 [01:12<00:00, 277.47it/s] \n"
     ]
    },
    {
     "name": "stdout",
     "output_type": "stream",
     "text": [
      "Train set: Average loss: 0.00000447842222651473612288815923\n"
     ]
    },
    {
     "name": "stderr",
     "output_type": "stream",
     "text": [
      "Epoch 6 loss=0.0015809792409028655 batch_id=19999: 100%|██████████| 20000/20000 [01:12<00:00, 276.22it/s]\n"
     ]
    },
    {
     "name": "stdout",
     "output_type": "stream",
     "text": [
      "Train set: Average loss: 0.00000442321862932026652688762003\n"
     ]
    },
    {
     "name": "stderr",
     "output_type": "stream",
     "text": [
      "Epoch 7 loss=0.0016702966701796183 batch_id=19999: 100%|██████████| 20000/20000 [01:12<00:00, 277.17it/s]\n"
     ]
    },
    {
     "name": "stdout",
     "output_type": "stream",
     "text": [
      "Train set: Average loss: 0.00000437414406966021798597952369\n"
     ]
    },
    {
     "name": "stderr",
     "output_type": "stream",
     "text": [
      "Epoch 8 loss=0.002326378463515565 batch_id=19999: 100%|██████████| 20000/20000 [01:12<00:00, 277.54it/s] \n"
     ]
    },
    {
     "name": "stdout",
     "output_type": "stream",
     "text": [
      "Train set: Average loss: 0.00000432964143736121326446831051\n"
     ]
    },
    {
     "name": "stderr",
     "output_type": "stream",
     "text": [
      "Epoch 9 loss=0.0018910783594921297 batch_id=19999: 100%|██████████| 20000/20000 [01:12<00:00, 277.69it/s]\n"
     ]
    },
    {
     "name": "stdout",
     "output_type": "stream",
     "text": [
      "Train set: Average loss: 0.00000428879738098417324085927932\n"
     ]
    },
    {
     "name": "stderr",
     "output_type": "stream",
     "text": [
      "Epoch 10 loss=0.0026341054622987664 batch_id=19999: 100%|██████████| 20000/20000 [01:11<00:00, 278.85it/s]\n"
     ]
    },
    {
     "name": "stdout",
     "output_type": "stream",
     "text": [
      "Train set: Average loss: 0.00000425048842474683376035969953\n"
     ]
    },
    {
     "name": "stderr",
     "output_type": "stream",
     "text": [
      "Epoch 11 loss=0.0026463151822080835 batch_id=19999: 100%|██████████| 20000/20000 [01:11<00:00, 279.25it/s]\n"
     ]
    },
    {
     "name": "stdout",
     "output_type": "stream",
     "text": [
      "Train set: Average loss: 0.00000421551557299071077446455530\n"
     ]
    },
    {
     "name": "stderr",
     "output_type": "stream",
     "text": [
      "Epoch 12 loss=0.00229539337260844 batch_id=19999: 100%|██████████| 20000/20000 [01:11<00:00, 278.66it/s]  \n"
     ]
    },
    {
     "name": "stdout",
     "output_type": "stream",
     "text": [
      "Train set: Average loss: 0.00000418260768915945207709408682\n"
     ]
    },
    {
     "name": "stderr",
     "output_type": "stream",
     "text": [
      "Epoch 13 loss=0.002337547882425381 batch_id=19999: 100%|██████████| 20000/20000 [01:12<00:00, 277.77it/s] \n"
     ]
    },
    {
     "name": "stdout",
     "output_type": "stream",
     "text": [
      "Train set: Average loss: 0.00000415206150781867157567930904\n"
     ]
    },
    {
     "name": "stderr",
     "output_type": "stream",
     "text": [
      "Epoch 14 loss=0.0019358042237331576 batch_id=19999: 100%|██████████| 20000/20000 [01:11<00:00, 278.09it/s]\n"
     ]
    },
    {
     "name": "stdout",
     "output_type": "stream",
     "text": [
      "Train set: Average loss: 0.00000412301841248911794465814573\n"
     ]
    },
    {
     "name": "stderr",
     "output_type": "stream",
     "text": [
      "Epoch 15 loss=0.0017491576689959445 batch_id=19999: 100%|██████████| 20000/20000 [01:11<00:00, 280.45it/s]\n"
     ]
    },
    {
     "name": "stdout",
     "output_type": "stream",
     "text": [
      "Train set: Average loss: 0.00000409533508125868903033224219\n"
     ]
    },
    {
     "name": "stderr",
     "output_type": "stream",
     "text": [
      "Epoch 16 loss=0.001461058400985881 batch_id=19999: 100%|██████████| 20000/20000 [01:11<00:00, 279.59it/s] \n"
     ]
    },
    {
     "name": "stdout",
     "output_type": "stream",
     "text": [
      "Train set: Average loss: 0.00000406856627678270201876106066\n"
     ]
    },
    {
     "name": "stderr",
     "output_type": "stream",
     "text": [
      "Epoch 17 loss=0.0025079873684706426 batch_id=19999: 100%|██████████| 20000/20000 [01:12<00:00, 275.49it/s]\n"
     ]
    },
    {
     "name": "stdout",
     "output_type": "stream",
     "text": [
      "Train set: Average loss: 0.00000404257814380790517948737958\n"
     ]
    },
    {
     "name": "stderr",
     "output_type": "stream",
     "text": [
      "Epoch 18 loss=0.0019577168961257187 batch_id=19999: 100%|██████████| 20000/20000 [01:12<00:00, 275.64it/s]\n"
     ]
    },
    {
     "name": "stdout",
     "output_type": "stream",
     "text": [
      "Train set: Average loss: 0.00000401719393801970461286036593\n"
     ]
    },
    {
     "name": "stderr",
     "output_type": "stream",
     "text": [
      "Epoch 19 loss=0.0022030878421710337 batch_id=19999: 100%|██████████| 20000/20000 [01:12<00:00, 276.02it/s]\n"
     ]
    },
    {
     "name": "stdout",
     "output_type": "stream",
     "text": [
      "Train set: Average loss: 0.00000399185822857760737379477500\n"
     ]
    },
    {
     "name": "stderr",
     "output_type": "stream",
     "text": [
      "Epoch 20 loss=0.0022936175771575296 batch_id=19999: 100%|██████████| 20000/20000 [01:12<00:00, 274.94it/s]\n"
     ]
    },
    {
     "name": "stdout",
     "output_type": "stream",
     "text": [
      "Train set: Average loss: 0.00000396803006467083628738519788\n"
     ]
    },
    {
     "name": "stderr",
     "output_type": "stream",
     "text": [
      "Epoch 21 loss=0.001998073205537883 batch_id=19999: 100%|██████████| 20000/20000 [01:12<00:00, 275.48it/s] \n"
     ]
    },
    {
     "name": "stdout",
     "output_type": "stream",
     "text": [
      "Train set: Average loss: 0.00000394621506029323730927686059\n"
     ]
    },
    {
     "name": "stderr",
     "output_type": "stream",
     "text": [
      "Epoch 22 loss=0.0019397877479025297 batch_id=19999: 100%|██████████| 20000/20000 [01:11<00:00, 278.41it/s]\n"
     ]
    },
    {
     "name": "stdout",
     "output_type": "stream",
     "text": [
      "Train set: Average loss: 0.00000392578525910365879126239994\n"
     ]
    },
    {
     "name": "stderr",
     "output_type": "stream",
     "text": [
      "Epoch 23 loss=0.0017381559327206326 batch_id=19999: 100%|██████████| 20000/20000 [01:11<00:00, 279.73it/s]\n"
     ]
    },
    {
     "name": "stdout",
     "output_type": "stream",
     "text": [
      "Train set: Average loss: 0.00000390636951587450227197165220\n"
     ]
    },
    {
     "name": "stderr",
     "output_type": "stream",
     "text": [
      "Epoch 24 loss=0.0016413784282290204 batch_id=19999: 100%|██████████| 20000/20000 [01:11<00:00, 279.39it/s]\n"
     ]
    },
    {
     "name": "stdout",
     "output_type": "stream",
     "text": [
      "Train set: Average loss: 0.00000388599046801431176789871913\n"
     ]
    },
    {
     "name": "stderr",
     "output_type": "stream",
     "text": [
      "Epoch 25 loss=0.0017844163761489128 batch_id=19999: 100%|██████████| 20000/20000 [01:12<00:00, 275.28it/s]\n"
     ]
    },
    {
     "name": "stdout",
     "output_type": "stream",
     "text": [
      "Train set: Average loss: 0.00000386470192654249752639604790\n"
     ]
    },
    {
     "name": "stderr",
     "output_type": "stream",
     "text": [
      "Epoch 26 loss=0.0019389091822902811 batch_id=19999: 100%|██████████| 20000/20000 [01:11<00:00, 277.96it/s]\n"
     ]
    },
    {
     "name": "stdout",
     "output_type": "stream",
     "text": [
      "Train set: Average loss: 0.00000384394085010084891543139310\n"
     ]
    },
    {
     "name": "stderr",
     "output_type": "stream",
     "text": [
      "Epoch 27 loss=0.002981690945281719 batch_id=19999: 100%|██████████| 20000/20000 [01:11<00:00, 277.83it/s] \n"
     ]
    },
    {
     "name": "stdout",
     "output_type": "stream",
     "text": [
      "Train set: Average loss: 0.00000382425420700406699882258760\n"
     ]
    },
    {
     "name": "stderr",
     "output_type": "stream",
     "text": [
      "Epoch 28 loss=0.0013670114021711332 batch_id=19999: 100%|██████████| 20000/20000 [01:12<00:00, 276.79it/s]\n"
     ]
    },
    {
     "name": "stdout",
     "output_type": "stream",
     "text": [
      "Train set: Average loss: 0.00000380572531307168997411274902\n"
     ]
    },
    {
     "name": "stderr",
     "output_type": "stream",
     "text": [
      "Epoch 29 loss=0.0015210216618334253 batch_id=19999: 100%|██████████| 20000/20000 [01:12<00:00, 276.80it/s]\n"
     ]
    },
    {
     "name": "stdout",
     "output_type": "stream",
     "text": [
      "Train set: Average loss: 0.00000378854148673250239903222136\n"
     ]
    },
    {
     "name": "stderr",
     "output_type": "stream",
     "text": [
      "Epoch 30 loss=0.001926076364748237 batch_id=19999: 100%|██████████| 20000/20000 [01:12<00:00, 276.18it/s] \n"
     ]
    },
    {
     "name": "stdout",
     "output_type": "stream",
     "text": [
      "Train set: Average loss: 0.00000377222074884886460210964287\n"
     ]
    },
    {
     "name": "stderr",
     "output_type": "stream",
     "text": [
      "Epoch 31 loss=0.0031801336061109647 batch_id=19999: 100%|██████████| 20000/20000 [01:12<00:00, 275.61it/s]\n"
     ]
    },
    {
     "name": "stdout",
     "output_type": "stream",
     "text": [
      "Train set: Average loss: 0.00000375669001038176615474544623\n"
     ]
    },
    {
     "name": "stderr",
     "output_type": "stream",
     "text": [
      "Epoch 32 loss=0.0018211924693040545 batch_id=19999: 100%|██████████| 20000/20000 [01:12<00:00, 274.63it/s]\n"
     ]
    },
    {
     "name": "stdout",
     "output_type": "stream",
     "text": [
      "Train set: Average loss: 0.00000374175921048311239724753693\n"
     ]
    },
    {
     "name": "stderr",
     "output_type": "stream",
     "text": [
      "Epoch 33 loss=0.0018171414159220578 batch_id=19999: 100%|██████████| 20000/20000 [01:12<00:00, 277.73it/s]\n"
     ]
    },
    {
     "name": "stdout",
     "output_type": "stream",
     "text": [
      "Train set: Average loss: 0.00000372796897495745388956050678\n"
     ]
    },
    {
     "name": "stderr",
     "output_type": "stream",
     "text": [
      "Epoch 34 loss=0.002166330397499394 batch_id=19999: 100%|██████████| 20000/20000 [01:12<00:00, 276.65it/s] \n"
     ]
    },
    {
     "name": "stdout",
     "output_type": "stream",
     "text": [
      "Train set: Average loss: 0.00000371447165571108877424083734\n"
     ]
    },
    {
     "name": "stderr",
     "output_type": "stream",
     "text": [
      "Epoch 35 loss=0.0015823555816005443 batch_id=19999: 100%|██████████| 20000/20000 [01:12<00:00, 277.70it/s]\n"
     ]
    },
    {
     "name": "stdout",
     "output_type": "stream",
     "text": [
      "Train set: Average loss: 0.00000370135183487068911747366537\n"
     ]
    },
    {
     "name": "stderr",
     "output_type": "stream",
     "text": [
      "Epoch 36 loss=0.0020850223721152056 batch_id=19999: 100%|██████████| 20000/20000 [01:12<00:00, 277.44it/s]\n"
     ]
    },
    {
     "name": "stdout",
     "output_type": "stream",
     "text": [
      "Train set: Average loss: 0.00000368873756546983873658802563\n"
     ]
    },
    {
     "name": "stderr",
     "output_type": "stream",
     "text": [
      "Epoch 37 loss=0.0015812986596286823 batch_id=19999: 100%|██████████| 20000/20000 [01:12<00:00, 276.99it/s]\n"
     ]
    },
    {
     "name": "stdout",
     "output_type": "stream",
     "text": [
      "Train set: Average loss: 0.00000367652386981759807721209174\n"
     ]
    },
    {
     "name": "stderr",
     "output_type": "stream",
     "text": [
      "Epoch 38 loss=0.0023832253799716298 batch_id=19999: 100%|██████████| 20000/20000 [01:11<00:00, 277.98it/s]\n"
     ]
    },
    {
     "name": "stdout",
     "output_type": "stream",
     "text": [
      "Train set: Average loss: 0.00000366482262912993048419073652\n"
     ]
    },
    {
     "name": "stderr",
     "output_type": "stream",
     "text": [
      "Epoch 39 loss=0.002068078751320232 batch_id=19999: 100%|██████████| 20000/20000 [01:12<00:00, 276.20it/s] \n"
     ]
    },
    {
     "name": "stdout",
     "output_type": "stream",
     "text": [
      "Train set: Average loss: 0.00000365341869937630137415919725\n"
     ]
    },
    {
     "name": "stderr",
     "output_type": "stream",
     "text": [
      "Epoch 40 loss=0.0019063747138204578 batch_id=19999: 100%|██████████| 20000/20000 [01:12<00:00, 274.08it/s]\n"
     ]
    },
    {
     "name": "stdout",
     "output_type": "stream",
     "text": [
      "Train set: Average loss: 0.00000364243511139443830636132533\n"
     ]
    },
    {
     "name": "stderr",
     "output_type": "stream",
     "text": [
      "Epoch 41 loss=0.0011355873157612437 batch_id=19999: 100%|██████████| 20000/20000 [01:12<00:00, 274.58it/s]\n"
     ]
    },
    {
     "name": "stdout",
     "output_type": "stream",
     "text": [
      "Train set: Average loss: 0.00000363194466634470253393277700\n"
     ]
    },
    {
     "name": "stderr",
     "output_type": "stream",
     "text": [
      "Epoch 42 loss=0.0017286797161909983 batch_id=19999: 100%|██████████| 20000/20000 [01:12<00:00, 274.95it/s]\n"
     ]
    },
    {
     "name": "stdout",
     "output_type": "stream",
     "text": [
      "Train set: Average loss: 0.00000362167378080433799143571238\n"
     ]
    },
    {
     "name": "stderr",
     "output_type": "stream",
     "text": [
      "Epoch 43 loss=0.0016915244115811524 batch_id=19999: 100%|██████████| 20000/20000 [01:12<00:00, 275.73it/s]\n"
     ]
    },
    {
     "name": "stdout",
     "output_type": "stream",
     "text": [
      "Train set: Average loss: 0.00000361223235550767392162659422\n"
     ]
    },
    {
     "name": "stderr",
     "output_type": "stream",
     "text": [
      "Epoch 44 loss=0.0015426770448014723 batch_id=19999: 100%|██████████| 20000/20000 [01:12<00:00, 275.66it/s]\n"
     ]
    },
    {
     "name": "stdout",
     "output_type": "stream",
     "text": [
      "Train set: Average loss: 0.00000360318996668758989625419922\n"
     ]
    },
    {
     "name": "stderr",
     "output_type": "stream",
     "text": [
      "Epoch 45 loss=0.0014971977646267578 batch_id=19999: 100%|██████████| 20000/20000 [01:12<00:00, 276.10it/s]\n"
     ]
    },
    {
     "name": "stdout",
     "output_type": "stream",
     "text": [
      "Train set: Average loss: 0.00000359432356175655359016747614\n"
     ]
    },
    {
     "name": "stderr",
     "output_type": "stream",
     "text": [
      "Epoch 46 loss=0.0019245475107305587 batch_id=19999: 100%|██████████| 20000/20000 [01:12<00:00, 276.31it/s]\n"
     ]
    },
    {
     "name": "stdout",
     "output_type": "stream",
     "text": [
      "Train set: Average loss: 0.00000358588683899528716704377743\n"
     ]
    },
    {
     "name": "stderr",
     "output_type": "stream",
     "text": [
      "Epoch 47 loss=0.0017373608538837847 batch_id=19999: 100%|██████████| 20000/20000 [01:12<00:00, 276.43it/s]\n"
     ]
    },
    {
     "name": "stdout",
     "output_type": "stream",
     "text": [
      "Train set: Average loss: 0.00000357744729726207346071163024\n"
     ]
    },
    {
     "name": "stderr",
     "output_type": "stream",
     "text": [
      "Epoch 48 loss=0.0017056954816056906 batch_id=19999: 100%|██████████| 20000/20000 [01:12<00:00, 275.77it/s]\n"
     ]
    },
    {
     "name": "stdout",
     "output_type": "stream",
     "text": [
      "Train set: Average loss: 0.00000356954816105257150744855567\n"
     ]
    },
    {
     "name": "stderr",
     "output_type": "stream",
     "text": [
      "Epoch 49 loss=0.001915491925748354 batch_id=19999: 100%|██████████| 20000/20000 [01:18<00:00, 253.36it/s] \n"
     ]
    },
    {
     "name": "stdout",
     "output_type": "stream",
     "text": [
      "Train set: Average loss: 0.00000356171489648430417767027527\n"
     ]
    },
    {
     "name": "stderr",
     "output_type": "stream",
     "text": [
      "Epoch 50 loss=0.001961686762649085 batch_id=19999: 100%|██████████| 20000/20000 [01:10<00:00, 282.28it/s] "
     ]
    },
    {
     "name": "stdout",
     "output_type": "stream",
     "text": [
      "Train set: Average loss: 0.00000355426590441293701949166187\n"
     ]
    },
    {
     "name": "stderr",
     "output_type": "stream",
     "text": [
      "\n"
     ]
    }
   ],
   "source": [
    "for epoch in range(1, NUM_EPOCHS + 1):\n",
    "    train(model, device, train_dataloader, optimizer, criterion, epoch)\n",
    "    # plot_loss()\n",
    "    # test(model, device, test_dataloader, criterion)\n",
    "    # scheduler.step()"
   ]
  },
  {
   "cell_type": "code",
   "execution_count": 10,
   "metadata": {},
   "outputs": [
    {
     "data": {
      "text/html": [
       "<style>\n",
       "    body {\n",
       "      font-size: 16px;\n",
       "    }\n",
       "  "
      ],
      "text/plain": [
       "<IPython.core.display.HTML object>"
      ]
     },
     "metadata": {},
     "output_type": "display_data"
    }
   ],
   "source": [
    "torch.save(model.state_dict(), 'trained_model/original_trainsize_10k_batch_512.pth')"
   ]
  },
  {
   "cell_type": "code",
   "execution_count": 11,
   "metadata": {},
   "outputs": [
    {
     "data": {
      "text/html": [
       "<style>\n",
       "    body {\n",
       "      font-size: 16px;\n",
       "    }\n",
       "  "
      ],
      "text/plain": [
       "<IPython.core.display.HTML object>"
      ]
     },
     "metadata": {},
     "output_type": "display_data"
    }
   ],
   "source": [
    "test_image_name = 'balloon.bmp'"
   ]
  },
  {
   "cell_type": "code",
   "execution_count": 12,
   "metadata": {
    "colab": {
     "base_uri": "https://localhost:8080/",
     "height": 334
    },
    "id": "fj0yoAQqhaGj",
    "outputId": "07fa2809-5228-47c4-87fb-9a1fc03f6165"
   },
   "outputs": [
    {
     "data": {
      "text/html": [
       "<style>\n",
       "    body {\n",
       "      font-size: 16px;\n",
       "    }\n",
       "  "
      ],
      "text/plain": [
       "<IPython.core.display.HTML object>"
      ]
     },
     "metadata": {},
     "output_type": "display_data"
    }
   ],
   "source": [
    "model.eval()\n",
    "image = data._preprocess_image('./dataset/original_image/' + test_image_name)\n",
    "tiled_image = data._reshape_split(image)\n",
    "X = tiled_image.copy()\n",
    "X[:, 3:5, 3:5] = np.array([[None, None],\n",
    "                            [None, None]])\n",
    "test = X[~np.isnan(X)].reshape(-1, 60) / 255.\n",
    "prediction_result = model(torch.tensor(test, dtype=torch.float64).to(device)).detach().cpu().numpy()\n",
    "prediction_result = prediction_result.reshape(-1, 2, 2) * 255.\n",
    "X[:, 3:5, 3:5] = prediction_result\n",
    "pred = X.reshape(32, 32, 8, 8).swapaxes(1, 2).reshape(256, 256)\n",
    "# a = model(torch.tensor(X[:1024], dtype=torch.float32).to(device)).detach().cpu().numpy()"
   ]
  },
  {
   "cell_type": "code",
   "execution_count": 11,
   "metadata": {},
   "outputs": [
    {
     "data": {
      "text/html": [
       "<style>\n",
       "    body {\n",
       "      font-size: 16px;\n",
       "    }\n",
       "  "
      ],
      "text/plain": [
       "<IPython.core.display.HTML object>"
      ]
     },
     "metadata": {},
     "output_type": "display_data"
    }
   ],
   "source": [
    "model.eval()\n",
    "image = data._preprocess_image('./dataset/original_image/' + test_image_name)\n",
    "tiled_image = data._reshape_split(image)\n",
    "X = tiled_image.copy()\n",
    "X[:, 3:5, 3:5] = np.array([[0., 0.],\n",
    "                            [0., 0.]])\n",
    "test = X / 255.\n",
    "prediction_result = model(torch.tensor(test, dtype=torch.float64).to(device).unsqueeze(1)).detach().cpu().numpy()\n",
    "prediction_result = prediction_result.reshape(-1, 2, 2) * 255.\n",
    "X[:, 3:5, 3:5] = prediction_result\n",
    "X = X.reshape(32, 32, 8, 8).swapaxes(1, 2).reshape(256, 256)"
   ]
  },
  {
   "cell_type": "code",
   "execution_count": 17,
   "metadata": {},
   "outputs": [
    {
     "data": {
      "text/html": [
       "<style>\n",
       "    body {\n",
       "      font-size: 16px;\n",
       "    }\n",
       "  "
      ],
      "text/plain": [
       "<IPython.core.display.HTML object>"
      ]
     },
     "metadata": {},
     "output_type": "display_data"
    }
   ],
   "source": [
    "model.eval()\n",
    "image = data._preprocess_image('./dataset/original_image/' + test_image_name)\n",
    "missing_pixel_image = data._create_missing_pixel_img(image)\n",
    "tiled_image = data._reshape_split(missing_pixel_image)\n",
    "test = tiled_image / 255.\n",
    "prediction_result = model(torch.tensor(test, dtype=torch.float64).to(device).unsqueeze(1)).detach().cpu().numpy()\n",
    "# prediction_result.shape\n",
    "pred = prediction_result.reshape(8, 8, 32, 32).swapaxes(1, 2).reshape(256, 256) * 255."
   ]
  },
  {
   "cell_type": "code",
   "execution_count": 13,
   "metadata": {
    "colab": {
     "base_uri": "https://localhost:8080/",
     "height": 507
    },
    "id": "zanqySueMdYQ",
    "outputId": "d69e45f5-3118-4855-925d-1eef619712fd"
   },
   "outputs": [
    {
     "data": {
      "text/html": [
       "<style>\n",
       "    body {\n",
       "      font-size: 16px;\n",
       "    }\n",
       "  "
      ],
      "text/plain": [
       "<IPython.core.display.HTML object>"
      ]
     },
     "metadata": {},
     "output_type": "display_data"
    },
    {
     "name": "stdout",
     "output_type": "stream",
     "text": [
      "MSE = 9.21\n"
     ]
    },
    {
     "data": {
      "image/png": "[encoded data removed]",
      "text/plain": [
       "<Figure size 426.667x426.667 with 1 Axes>"
      ]
     },
     "metadata": {},
     "output_type": "display_data"
    },
    {
     "data": {
      "image/png": "[encoded data removed]",
      "text/plain": [
       "<Figure size 426.667x426.667 with 1 Axes>"
      ]
     },
     "metadata": {},
     "output_type": "display_data"
    }
   ],
   "source": [
    "img = cv.imread(join(IMG_PATH, test_image_name), cv.IMREAD_GRAYSCALE)\n",
    "img = cv.resize(img, (256, 256), cv.INTER_CUBIC)\n",
    "img = img.astype(np.float64)\n",
    "\n",
    "# compute the MSE between the original and reconstructed images\n",
    "err = pred - img\n",
    "print(\"MSE =\", \"{:.2f}\".format((err**2).mean()))\n",
    "\n",
    "imshow(pred, \"gray\", dpi=72)\n",
    "imshow(pred - img, 'gray', dpi = 72)\n"
   ]
  },
  {
   "cell_type": "code",
   "execution_count": null,
   "metadata": {
    "id": "i5miZYKZCAZN"
   },
   "outputs": [],
   "source": []
  },
  {
   "cell_type": "code",
   "execution_count": null,
   "metadata": {},
   "outputs": [],
   "source": []
  }
 ],
 "metadata": {
  "accelerator": "GPU",
  "colab": {
   "provenance": []
  },
  "gpuClass": "standard",
  "kernelspec": {
   "display_name": "Python 3 (ipykernel)",
   "language": "python",
   "name": "python3"
  },
  "language_info": {
   "codemirror_mode": {
    "name": "ipython",
    "version": 3
   },
   "file_extension": ".py",
   "mimetype": "text/x-python",
   "name": "python",
   "nbconvert_exporter": "python",
   "pygments_lexer": "ipython3",
   "version": "3.10.10"
  }
 },
 "nbformat": 4,
 "nbformat_minor": 4
}
