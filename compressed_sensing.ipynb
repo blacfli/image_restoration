{
 "cells": [
  {
   "cell_type": "code",
   "execution_count": 1,
   "metadata": {},
   "outputs": [],
   "source": [
    "import numpy as np\n",
    "from scipy.fft import fft, fftshift, ifft, ifftshift\n",
    "import plotly.express as xp\n",
    "import plotly.graph_objects as go\n",
    "import matplotlib.pyplot as plt\n",
    "import pywt\n",
    "import cv2 as cv\n",
    "from tqdm import tqdm"
   ]
  },
  {
   "cell_type": "code",
   "execution_count": 2,
   "metadata": {},
   "outputs": [],
   "source": [
    "def soft_thresh(x, lam):\n",
    "    if ~(isinstance(x[0], complex)):\n",
    "        return np.zeros(x.shape) + (x + lam) * (x<-lam) + (x - lam) * (x>lam) \n",
    "    else:\n",
    "        return np.zeros(x.shape) + ( abs(x) - lam ) / abs(x) * x * (abs(x)>lam) "
   ]
  },
  {
   "cell_type": "code",
   "execution_count": 3,
   "metadata": {},
   "outputs": [
    {
     "ename": "ValueError",
     "evalue": "not enough values to unpack (expected 3, got 2)",
     "output_type": "error",
     "traceback": [
      "\u001b[1;31m---------------------------------------------------------------------------\u001b[0m",
      "\u001b[1;31mValueError\u001b[0m                                Traceback (most recent call last)",
      "Cell \u001b[1;32mIn[3], line 39\u001b[0m\n\u001b[0;32m     37\u001b[0m \u001b[39m# read original image\u001b[39;00m\n\u001b[0;32m     38\u001b[0m Xorig \u001b[39m=\u001b[39m plt\u001b[39m.\u001b[39mimread(\u001b[39m'\u001b[39m\u001b[39m./dataset/original_image/balloon.bmp\u001b[39m\u001b[39m'\u001b[39m)\n\u001b[1;32m---> 39\u001b[0m ny,nx, nchan \u001b[39m=\u001b[39m Xorig\u001b[39m.\u001b[39mshape\n\u001b[0;32m     41\u001b[0m \u001b[39m# for each sample size\u001b[39;00m\n\u001b[0;32m     42\u001b[0m Z \u001b[39m=\u001b[39m [np\u001b[39m.\u001b[39mzeros(Xorig\u001b[39m.\u001b[39mshape, dtype\u001b[39m=\u001b[39m\u001b[39m'\u001b[39m\u001b[39muint8\u001b[39m\u001b[39m'\u001b[39m) \u001b[39mfor\u001b[39;00m s \u001b[39min\u001b[39;00m sample_sizes]\n",
      "\u001b[1;31mValueError\u001b[0m: not enough values to unpack (expected 3, got 2)"
     ]
    }
   ],
   "source": [
    "# Load image\n",
    "original = cv.imread('./dataset/original_image/balloon.bmp', cv.IMREAD_GRAYSCALE)\n",
    "original = cv.resize(original, (256, 256), cv.INTER_CUBIC)\n",
    "original = original.astype(np.float64)\n",
    "\n",
    "# Wavelet transform of image, and plot approximation and details\n",
    "titles = ['Approximation', ' Horizontal detail',\n",
    "          'Vertical detail', 'Diagonal detail']\n",
    "coeffs2 = pywt.dwt2(original, 'bior1.3')\n",
    "LL, (LH, HL, HH) = coeffs2\n",
    "fig = plt.figure(figsize=(10, 10*4))\n",
    "for i, a in enumerate([LL, LH, HL, HH]):\n",
    "    ax = fig.add_subplot(4, 1, i + 1)\n",
    "    ax.imshow(a, interpolation=\"nearest\", cmap=plt.cm.gray)\n",
    "    ax.set_title(titles[i], fontsize=10)\n",
    "    ax.set_xticks([])\n",
    "    ax.set_yticks([])\n",
    "\n",
    "fig.tight_layout()\n",
    "plt.show()"
   ]
  },
  {
   "cell_type": "code",
   "execution_count": null,
   "metadata": {},
   "outputs": [],
   "source": [
    "missing = cv.imread('./balloon_missing.jpg', cv.IMREAD_GRAYSCALE)"
   ]
  },
  {
   "cell_type": "code",
   "execution_count": null,
   "metadata": {},
   "outputs": [],
   "source": [
    "undersample_rate = .75\n",
    "n = missing.shape[0] * missing.shape[1]\n",
    "original_undersampled = ( missing.reshape(-1) \\\n",
    "    * np.random.permutation( \n",
    "        np.concatenate( \n",
    "            (np.ones( int( n * undersample_rate ) ), \n",
    "             np.zeros( int( n * ( 1-undersample_rate )) )) \n",
    "        ) \n",
    "    ) \n",
    "                        ).reshape(256,256)"
   ]
  },
  {
   "cell_type": "code",
   "execution_count": null,
   "metadata": {},
   "outputs": [],
   "source": [
    "fig,ax = plt.subplots(1,2,figsize=(20,10))\n",
    "ax[0].imshow(original, cmap=plt.cm.gray)\n",
    "ax[1].imshow(original_undersampled,cmap=plt.cm.gray)"
   ]
  },
  {
   "cell_type": "code",
   "execution_count": null,
   "metadata": {},
   "outputs": [],
   "source": [
    "def flat_wavelet_transform2(x, method='bior1.3'):\n",
    "    \"\"\"For a 2D image x, take the wavelet \"\"\"\n",
    "    coeffs = pywt.wavedec2( x, method )\n",
    "    output = coeffs[0].reshape(-1)\n",
    "    for tups in coeffs[1:]:\n",
    "        for c in tups:\n",
    "            output = np.concatenate((output, c.reshape(-1)))\n",
    "    return output\n",
    "\n",
    "def inverse_flat_wavelet_transform2(X,  shape, method='bior1.3'):\n",
    "    shapes = pywt.wavedecn_shapes( shape , method)\n",
    "    nx = shapes[0][0]\n",
    "    ny = shapes[0][1]\n",
    "    n = nx * ny\n",
    "    coeffs = [X[:n].reshape(nx,ny) ]\n",
    "    for i, d in enumerate(shapes[1:]):\n",
    "        vals=list(d.values())\n",
    "        nx = vals[0][0]\n",
    "        ny = vals[0][1]\n",
    "        coeffs.append( (X[ n : n + nx * ny].reshape( nx, ny ), \n",
    "                        X[ n + nx * ny : n + 2 * nx * ny ].reshape( nx, ny ), \n",
    "                        X[ n + 2 * nx * ny : n + 3 * nx * ny ].reshape( nx, ny ))  )\n",
    "        n += 3 * nx * ny\n",
    "    return pywt.waverec2(coeffs, method)"
   ]
  },
  {
   "cell_type": "code",
   "execution_count": null,
   "metadata": {},
   "outputs": [],
   "source": [
    "methods = ['haar','coif1','coif2','coif3','bior1.1','bior1.3','bior3.1','bior3.3','rbio1.1','rbio1.3','rbio3.1','rbio3.3']\n",
    "def distance(x,y):\n",
    "    # return sum(abs(x.reshape(-1)-y.reshape(-1)))\n",
    "    return ((x - y) ** 2).mean()\n",
    "\n",
    "# undersampled noisy signal in image-space and let this be first order Xhat\n",
    "y = missing\n",
    "\n",
    "# Repeat steps 1-4 until change is below a threshold\n",
    "eps = 1e-8\n",
    "lam_decay = 0.995\n",
    "minlam = 1\n",
    "\n",
    "err2=[]\n",
    "\n",
    "\n",
    "lam = 100\n",
    "\n",
    "xhat = y.copy()\n",
    "for i in tqdm(range(516)):\n",
    "    method = 'sym17'\n",
    "    xhat_old = xhat\n",
    "    Xhat_old = flat_wavelet_transform2(xhat, method)\n",
    "    Xhat = soft_thresh(Xhat_old, lam)\n",
    "    xhat = inverse_flat_wavelet_transform2(Xhat, (256,256), method)\n",
    "    xhat[y!=0] = y[y!=0]   \n",
    "\n",
    "\n",
    "    xhat = xhat.astype(int)\n",
    "    xhat[xhat<0] = 0\n",
    "    xhat[xhat>255] = 255\n",
    "    err2.append(distance(original, xhat))\n",
    "    lam *= lam_decay \n",
    "#     if (distance(xhat, xhat_old)<eps):\n",
    "#         break\n",
    "\n",
    "print(np.argmin(err2))\n",
    "\n",
    "    \n",
    "fig = plt.figure(figsize=(10,10))  \n",
    "plt.loglog(err2)\n",
    "\n",
    "\n",
    "fig,ax = plt.subplots(1,2,figsize=(20,10))\n",
    "ax[0].imshow(original, cmap=plt.cm.gray)\n",
    "ax[1].imshow(abs(xhat - original),cmap=plt.cm.gray, vmin=0, vmax=255)"
   ]
  }
 ],
 "metadata": {
  "kernelspec": {
   "display_name": ".venv",
   "language": "python",
   "name": "python3"
  },
  "language_info": {
   "codemirror_mode": {
    "name": "ipython",
    "version": 3
   },
   "file_extension": ".py",
   "mimetype": "text/x-python",
   "name": "python",
   "nbconvert_exporter": "python",
   "pygments_lexer": "ipython3",
   "version": "3.9.6"
  },
  "orig_nbformat": 4
 },
 "nbformat": 4,
 "nbformat_minor": 2
}
