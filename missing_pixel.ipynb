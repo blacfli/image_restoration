{
 "cells": [
  {
   "cell_type": "code",
   "execution_count": 2,
   "metadata": {
    "colab": {
     "base_uri": "https://localhost:8080/"
    },
    "id": "FgJjOnohaU1F",
    "outputId": "dbd75c7d-fbdf-4d38-cbcc-cc6164f022b8"
   },
   "outputs": [],
   "source": [
    "# !git clone https://github.com/dmc27/missing_pixels.git"
   ]
  },
  {
   "cell_type": "code",
   "execution_count": 3,
   "metadata": {
    "id": "-TrLL-7WrfUW"
   },
   "outputs": [],
   "source": [
    "import cv2 as cv\n",
    "import numpy as np\n",
    "from tqdm import tqdm\n",
    "from os import listdir\n",
    "from os.path import isfile, join\n",
    "from sklearn.metrics import accuracy_score\n",
    "\n",
    "# import tensorflow as tf\n",
    "# from tensorflow import keras\n",
    "# from tensorflow.keras.models import Sequential\n",
    "# from tensorflow.keras.layers import Dense\n",
    "# from tensorflow.keras.models import load_model\n",
    "# from tensorflow.keras.callbacks import ModelCheckpoint\n",
    "import torch\n",
    "import torchvision\n",
    "import torch.nn as nn\n",
    "import torch.optim as optim\n",
    "import torch.nn.functional as F\n",
    "from torchvision import transforms as T\n",
    "from torch.utils.data import DataLoader\n",
    "from torch.utils.data import Dataset\n",
    "from torch.optim.lr_scheduler import StepLR\n",
    "\n",
    "\n",
    "from utils.utils import *\n",
    "from utils.database import MissingPixelDataset\n",
    "from model.architecture import *\n",
    "\n",
    "\n",
    "import warnings\n",
    "warnings.filterwarnings('ignore')\n",
    "\n",
    "plt.rcParams[\"figure.dpi\"] = 120\n",
    "\n",
    "from IPython.display import HTML\n",
    "shell = get_ipython()\n",
    "\n",
    "def adjust_font_size():\n",
    "  display(HTML('''<style>\n",
    "    body {\n",
    "      font-size: 16px;\n",
    "    }\n",
    "  '''))\n",
    "\n",
    "if adjust_font_size not in shell.events.callbacks['pre_execute']:\n",
    "  shell.events.register('pre_execute', adjust_font_size)\n",
    "\n",
    "\n",
    "\n",
    "BLOCK_SIZE = 8\n",
    "BATCH_SIZE = 2048\n",
    "NUM_EPOCHS = 10\n",
    "LEARNING_RATE = 1e-5\n",
    "# WEIGHT_DECAY = 0.05\n",
    "STEPLR_GAMMA = 0.1\n",
    "RUN_UTILITY = False\n",
    "\n",
    "\n",
    "IMG_PATH = './dataset/original_image/'\n",
    "IMG_TRAINING_PATH = './dataset/training_image/train/'\n",
    "IMG_SAVE_PATH = './dataset/missing_pixel/'"
   ]
  },
  {
   "cell_type": "code",
   "execution_count": 4,
   "metadata": {},
   "outputs": [
    {
     "data": {
      "text/html": [
       "<style>\n",
       "    body {\n",
       "      font-size: 16px;\n",
       "    }\n",
       "  "
      ],
      "text/plain": [
       "<IPython.core.display.HTML object>"
      ]
     },
     "metadata": {},
     "output_type": "display_data"
    }
   ],
   "source": [
    "if RUN_UTILITY:\n",
    "    create_dataset_autoencoder(IMG_PATH, IMG_SAVE_PATH, BLOCK_SIZE, img_size=(256, 256))"
   ]
  },
  {
   "cell_type": "code",
   "execution_count": 5,
   "metadata": {},
   "outputs": [
    {
     "data": {
      "text/html": [
       "<style>\n",
       "    body {\n",
       "      font-size: 16px;\n",
       "    }\n",
       "  "
      ],
      "text/plain": [
       "<IPython.core.display.HTML object>"
      ]
     },
     "metadata": {},
     "output_type": "display_data"
    },
    {
     "name": "stderr",
     "output_type": "stream",
     "text": [
      "100%|██████████| 1000/1000 [00:00<00:00, 1740.58it/s]\n",
      "100%|██████████| 50000/50000 [00:48<00:00, 1035.25it/s]\n"
     ]
    }
   ],
   "source": [
    "# Calling PrepareDataset class in the utilities for preparing the dataset for training,\n",
    "# X is the input to the network architecture, and y is the target output of the network\n",
    "data = PrepareDataset(IMG_TRAINING_PATH, IMG_SAVE_PATH, block_size=8)\n",
    "X, y = data.create_dataset_2d(sample_size = 50000)\n",
    "\n",
    "\n",
    "# Creating dataset for the pytorch model (converted to tensor)\n",
    "train_dataset = MissingPixelDataset(X, y, scaling=False)\n",
    "\n",
    "\n",
    "# Create training dataloader to make a batch learning for the pytorch model\n",
    "train_dataloader = DataLoader(train_dataset, shuffle=True, num_workers=0, batch_size=BATCH_SIZE)"
   ]
  },
  {
   "cell_type": "code",
   "execution_count": 6,
   "metadata": {},
   "outputs": [
    {
     "data": {
      "text/html": [
       "<style>\n",
       "    body {\n",
       "      font-size: 16px;\n",
       "    }\n",
       "  "
      ],
      "text/plain": [
       "<IPython.core.display.HTML object>"
      ]
     },
     "metadata": {},
     "output_type": "display_data"
    },
    {
     "name": "stdout",
     "output_type": "stream",
     "text": [
      "Using cuda device\n"
     ]
    }
   ],
   "source": [
    "device = \"cuda\" if torch.cuda.is_available() else \"mps\" if torch.backends.mps.is_available() else \"cpu\"\n",
    "print(f\"Using {device} device\")"
   ]
  },
  {
   "cell_type": "code",
   "execution_count": 7,
   "metadata": {},
   "outputs": [
    {
     "data": {
      "text/html": [
       "<style>\n",
       "    body {\n",
       "      font-size: 16px;\n",
       "    }\n",
       "  "
      ],
      "text/plain": [
       "<IPython.core.display.HTML object>"
      ]
     },
     "metadata": {},
     "output_type": "display_data"
    }
   ],
   "source": [
    "model = ConvModel1().double().to(device)\n",
    "criterion = nn.MSELoss()\n",
    "optimizer = optim.Adam(model.parameters())\n",
    "scheduler = StepLR(optimizer, step_size=5, gamma=STEPLR_GAMMA)"
   ]
  },
  {
   "cell_type": "code",
   "execution_count": 8,
   "metadata": {},
   "outputs": [
    {
     "data": {
      "text/html": [
       "<style>\n",
       "    body {\n",
       "      font-size: 16px;\n",
       "    }\n",
       "  "
      ],
      "text/plain": [
       "<IPython.core.display.HTML object>"
      ]
     },
     "metadata": {},
     "output_type": "display_data"
    }
   ],
   "source": [
    "def train(model, device, train_loader, optimizer, criterion, epoch):\n",
    "    model.train()\n",
    "    \n",
    "    train_loss = 0\n",
    "    pbar = tqdm(train_loader)\n",
    "    for batch_idx, (X_train, y_train) in enumerate(pbar):\n",
    "        X_train, y_train = X_train.to(device), y_train.to(device)\n",
    "        \n",
    "        output = model(X_train.unsqueeze(1))\n",
    "        \n",
    "        loss = criterion(output, y_train)\n",
    "        train_loss += loss.item()\n",
    "\n",
    "        optimizer.zero_grad()\n",
    "        loss.backward()\n",
    "        optimizer.step()\n",
    "        \n",
    "        \n",
    "        \n",
    "        pbar.set_description(desc= f'Epoch {epoch} loss={loss.item()} batch_id={batch_idx}')\n",
    "    \n",
    "    train_loss /= len(train_loader.dataset)\n",
    "\n",
    "    print('Train set: Average loss: {:.32f}'.format(train_loss))"
   ]
  },
  {
   "cell_type": "code",
   "execution_count": 9,
   "metadata": {},
   "outputs": [
    {
     "data": {
      "text/html": [
       "<style>\n",
       "    body {\n",
       "      font-size: 16px;\n",
       "    }\n",
       "  "
      ],
      "text/plain": [
       "<IPython.core.display.HTML object>"
      ]
     },
     "metadata": {},
     "output_type": "display_data"
    },
    {
     "data": {
      "text/plain": [
       "<All keys matched successfully>"
      ]
     },
     "execution_count": 9,
     "metadata": {},
     "output_type": "execute_result"
    }
   ],
   "source": [
    "model.load_state_dict(torch.load('./trained_model/convmodel_30k_0.pth'))"
   ]
  },
  {
   "cell_type": "code",
   "execution_count": 10,
   "metadata": {},
   "outputs": [
    {
     "data": {
      "text/html": [
       "<style>\n",
       "    body {\n",
       "      font-size: 16px;\n",
       "    }\n",
       "  "
      ],
      "text/plain": [
       "<IPython.core.display.HTML object>"
      ]
     },
     "metadata": {},
     "output_type": "display_data"
    },
    {
     "name": "stderr",
     "output_type": "stream",
     "text": [
      "Epoch 1 loss=0.0017711870498159105 batch_id=2516:  10%|█         | 2516/25000 [03:08<43:15,  8.66it/s]"
     ]
    }
   ],
   "source": [
    "for epoch in range(1, NUM_EPOCHS + 1):\n",
    "    train(model, device, train_dataloader, optimizer, criterion, epoch)\n",
    "    # plot_loss()\n",
    "    # test(model, device, test_dataloader, criterion)\n",
    "    # scheduler.step()"
   ]
  },
  {
   "cell_type": "code",
   "execution_count": 17,
   "metadata": {},
   "outputs": [
    {
     "data": {
      "text/html": [
       "<style>\n",
       "    body {\n",
       "      font-size: 16px;\n",
       "    }\n",
       "  "
      ],
      "text/plain": [
       "<IPython.core.display.HTML object>"
      ]
     },
     "metadata": {},
     "output_type": "display_data"
    },
    {
     "data": {
      "text/plain": [
       "(256, 256)"
      ]
     },
     "execution_count": 17,
     "metadata": {},
     "output_type": "execute_result"
    }
   ],
   "source": []
  },
  {
   "cell_type": "code",
   "execution_count": 9,
   "metadata": {},
   "outputs": [
    {
     "data": {
      "text/html": [
       "<style>\n",
       "    body {\n",
       "      font-size: 16px;\n",
       "    }\n",
       "  "
      ],
      "text/plain": [
       "<IPython.core.display.HTML object>"
      ]
     },
     "metadata": {},
     "output_type": "display_data"
    }
   ],
   "source": [
    "torch.save(model.state_dict(), 'trained_model/ircnn_6k_1.pth')"
   ]
  },
  {
   "cell_type": "code",
   "execution_count": 16,
   "metadata": {},
   "outputs": [
    {
     "data": {
      "text/html": [
       "<style>\n",
       "    body {\n",
       "      font-size: 16px;\n",
       "    }\n",
       "  "
      ],
      "text/plain": [
       "<IPython.core.display.HTML object>"
      ]
     },
     "metadata": {},
     "output_type": "display_data"
    }
   ],
   "source": [
    "test_image_name = 'eagle.bmp'"
   ]
  },
  {
   "cell_type": "code",
   "execution_count": null,
   "metadata": {
    "colab": {
     "base_uri": "https://localhost:8080/",
     "height": 334
    },
    "id": "fj0yoAQqhaGj",
    "outputId": "07fa2809-5228-47c4-87fb-9a1fc03f6165"
   },
   "outputs": [],
   "source": [
    "model.eval()\n",
    "image = data._preprocess_image('./dataset/original_image/balloon.bmp')\n",
    "tiled_image = data._reshape_split(image)\n",
    "X = tiled_image.copy()\n",
    "X[:, 3:5, 3:5] = np.array([[None, None],\n",
    "                            [None, None]])\n",
    "test = X[~np.isnan(X)].reshape(-1, 60) / 255.\n",
    "prediction_result = model(torch.tensor(test, dtype=torch.float64).to(device)).detach().cpu().numpy()\n",
    "prediction_result = prediction_result.reshape(-1, 2, 2) * 255.\n",
    "X[:, 3:5, 3:5] = prediction_result\n",
    "X = X.reshape(32, 32, 8, 8).swapaxes(1, 2).reshape(256, 256)\n",
    "# a = model(torch.tensor(X[:1024], dtype=torch.float32).to(device)).detach().cpu().numpy()"
   ]
  },
  {
   "cell_type": "code",
   "execution_count": 11,
   "metadata": {},
   "outputs": [
    {
     "data": {
      "text/html": [
       "<style>\n",
       "    body {\n",
       "      font-size: 16px;\n",
       "    }\n",
       "  "
      ],
      "text/plain": [
       "<IPython.core.display.HTML object>"
      ]
     },
     "metadata": {},
     "output_type": "display_data"
    }
   ],
   "source": [
    "model.eval()\n",
    "image = data._preprocess_image('./dataset/original_image/' + test_image_name)\n",
    "tiled_image = data._reshape_split(image)\n",
    "X = tiled_image.copy()\n",
    "X[:, 3:5, 3:5] = np.array([[0., 0.],\n",
    "                            [0., 0.]])\n",
    "test = X / 255.\n",
    "prediction_result = model(torch.tensor(test, dtype=torch.float64).to(device).unsqueeze(1)).detach().cpu().numpy()\n",
    "prediction_result = prediction_result.reshape(-1, 2, 2) * 255.\n",
    "X[:, 3:5, 3:5] = prediction_result\n",
    "X = X.reshape(32, 32, 8, 8).swapaxes(1, 2).reshape(256, 256)"
   ]
  },
  {
   "cell_type": "code",
   "execution_count": 17,
   "metadata": {},
   "outputs": [
    {
     "data": {
      "text/html": [
       "<style>\n",
       "    body {\n",
       "      font-size: 16px;\n",
       "    }\n",
       "  "
      ],
      "text/plain": [
       "<IPython.core.display.HTML object>"
      ]
     },
     "metadata": {},
     "output_type": "display_data"
    }
   ],
   "source": [
    "model.eval()\n",
    "image = data._preprocess_image('./dataset/original_image/' + test_image_name)\n",
    "missing_pixel_image = data._create_missing_pixel_img(image)\n",
    "tiled_image = data._reshape_split(missing_pixel_image)\n",
    "test = tiled_image / 255.\n",
    "prediction_result = model(torch.tensor(test, dtype=torch.float64).to(device).unsqueeze(1)).detach().cpu().numpy()\n",
    "# prediction_result.shape\n",
    "pred = prediction_result.reshape(8, 8, 32, 32).swapaxes(1, 2).reshape(256, 256) * 255."
   ]
  },
  {
   "cell_type": "code",
   "execution_count": 18,
   "metadata": {},
   "outputs": [
    {
     "data": {
      "text/html": [
       "<style>\n",
       "    body {\n",
       "      font-size: 16px;\n",
       "    }\n",
       "  "
      ],
      "text/plain": [
       "<IPython.core.display.HTML object>"
      ]
     },
     "metadata": {},
     "output_type": "display_data"
    },
    {
     "data": {
      "text/plain": [
       "array([[123.62653125, 124.76420595, 126.54586449, ..., 126.12510387,\n",
       "        128.11056076, 129.43694876],\n",
       "       [121.78977793, 122.74711119, 124.07674207, ..., 123.45325022,\n",
       "        125.18749462, 125.98406633],\n",
       "       [123.86609506, 124.33159764, 124.03614106, ..., 121.85183954,\n",
       "        123.04041825, 122.87202033],\n",
       "       ...,\n",
       "       [123.11417536, 122.7502332 , 123.40343226, ..., 120.49163032,\n",
       "        121.73810406, 121.0666087 ],\n",
       "       [122.23041535, 122.41328859, 123.6936948 , ..., 121.46503923,\n",
       "        122.92623304, 122.05038634],\n",
       "       [121.56689347, 122.22990698, 123.50334852, ..., 123.55558173,\n",
       "        124.32378024, 124.11034719]])"
      ]
     },
     "execution_count": 18,
     "metadata": {},
     "output_type": "execute_result"
    }
   ],
   "source": [
    "pred"
   ]
  },
  {
   "cell_type": "code",
   "execution_count": 12,
   "metadata": {
    "colab": {
     "base_uri": "https://localhost:8080/",
     "height": 1000
    },
    "id": "sZ-9cxuG9msX",
    "outputId": "750cae7c-1afa-4fd8-872e-14f56c9251f5"
   },
   "outputs": [
    {
     "data": {
      "text/html": [
       "<style>\n",
       "    body {\n",
       "      font-size: 16px;\n",
       "    }\n",
       "  "
      ],
      "text/plain": [
       "<IPython.core.display.HTML object>"
      ]
     },
     "metadata": {},
     "output_type": "display_data"
    }
   ],
   "source": [
    "# # DO THE TRAINING\n",
    "# # BATCH_SIZE = 4\n",
    "# checkpoint = ModelCheckpoint(model_fname, monitor='loss', verbose=1,\n",
    "#   save_best_only=True)\n",
    "# callbacks_list = [checkpoint]\n",
    "\n",
    "# # fit the model\n",
    "# history = model.fit(X, y, epochs=NUM_EPOCHS, batch_size=BATCH_SIZE,\n",
    "#   validation_split=0.1, callbacks=callbacks_list)\n",
    "# # history = model.fit(X_trn, y_trn, epochs=200, batch_size=1,\n",
    "# #   validation_split=0.1, callbacks=callbacks_list)"
   ]
  },
  {
   "cell_type": "code",
   "execution_count": 13,
   "metadata": {},
   "outputs": [
    {
     "data": {
      "text/html": [
       "<style>\n",
       "    body {\n",
       "      font-size: 16px;\n",
       "    }\n",
       "  "
      ],
      "text/plain": [
       "<IPython.core.display.HTML object>"
      ]
     },
     "metadata": {},
     "output_type": "display_data"
    }
   ],
   "source": [
    "# pred = data.test_model(model=model)"
   ]
  },
  {
   "cell_type": "code",
   "execution_count": 14,
   "metadata": {
    "colab": {
     "base_uri": "https://localhost:8080/",
     "height": 1000
    },
    "id": "ViU9OXjdJ7tP",
    "outputId": "95328c18-7586-4c19-f344-57fcbde33b87"
   },
   "outputs": [
    {
     "data": {
      "text/html": [
       "<style>\n",
       "    body {\n",
       "      font-size: 16px;\n",
       "    }\n",
       "  "
      ],
      "text/plain": [
       "<IPython.core.display.HTML object>"
      ]
     },
     "metadata": {},
     "output_type": "display_data"
    }
   ],
   "source": [
    "# fig = plt.figure(figsize=(8, 10))\n",
    "# plt.subplot(3,1,1)\n",
    "# plt.plot(history.history['mse'])\n",
    "# plt.plot(history.history['mse'])\n",
    "# plt.title('Model Accuracy')\n",
    "# plt.ylabel('Accuracy')\n",
    "# plt.xlabel('Epoch')\n",
    "# plt.legend(['trn', 'val'], loc='lower right')\n",
    "\n",
    "# plt.subplot(3,1,2)\n",
    "# plt.plot(history.history['loss'])\n",
    "# plt.plot(history.history['val_loss'])\n",
    "# plt.title('Model Loss')\n",
    "# plt.ylabel('Loss')\n",
    "# plt.xlabel('Epoch')\n",
    "# plt.legend(['trn', 'val'], loc='upper right')\n",
    "# plt.tight_layout()\n",
    "\n",
    "# plt.subplot(3,1,3)\n",
    "# plt.semilogy(history.history['loss'])\n",
    "# plt.semilogy(history.history['val_loss'])\n",
    "# plt.title('Model Loss')\n",
    "# plt.ylabel('Loss')\n",
    "# plt.xlabel('Epoch')\n",
    "# plt.legend(['trn', 'val'], loc='upper right')\n",
    "# plt.tight_layout()\n"
   ]
  },
  {
   "cell_type": "code",
   "execution_count": 19,
   "metadata": {
    "colab": {
     "base_uri": "https://localhost:8080/",
     "height": 507
    },
    "id": "zanqySueMdYQ",
    "outputId": "d69e45f5-3118-4855-925d-1eef619712fd"
   },
   "outputs": [
    {
     "data": {
      "text/html": [
       "<style>\n",
       "    body {\n",
       "      font-size: 16px;\n",
       "    }\n",
       "  "
      ],
      "text/plain": [
       "<IPython.core.display.HTML object>"
      ]
     },
     "metadata": {},
     "output_type": "display_data"
    },
    {
     "name": "stdout",
     "output_type": "stream",
     "text": [
      "MSE = 6614.86\n"
     ]
    },
    {
     "data": {
      "image/png": "[encoded data removed]",
      "text/plain": [
       "<Figure size 426.667x426.667 with 1 Axes>"
      ]
     },
     "metadata": {},
     "output_type": "display_data"
    },
    {
     "data": {
      "image/png": "[encoded data removed]",
      "text/plain": [
       "<Figure size 426.667x426.667 with 1 Axes>"
      ]
     },
     "metadata": {},
     "output_type": "display_data"
    }
   ],
   "source": [
    "img = cv.imread(join(IMG_PATH, test_image_name), cv.IMREAD_GRAYSCALE)\n",
    "img = cv.resize(img, (256, 256), cv.INTER_CUBIC)\n",
    "img = img.astype(np.float64)\n",
    "\n",
    "# compute the MSE between the original and reconstructed images\n",
    "err = pred - img\n",
    "print(\"MSE =\", \"{:.2f}\".format((err**2).mean()))\n",
    "\n",
    "imshow(pred, \"gray\", dpi=72)\n",
    "imshow(pred - img, 'gray', dpi = 72)\n"
   ]
  },
  {
   "cell_type": "code",
   "execution_count": null,
   "metadata": {
    "id": "i5miZYKZCAZN"
   },
   "outputs": [],
   "source": []
  },
  {
   "cell_type": "code",
   "execution_count": null,
   "metadata": {},
   "outputs": [],
   "source": []
  }
 ],
 "metadata": {
  "accelerator": "GPU",
  "colab": {
   "provenance": []
  },
  "gpuClass": "standard",
  "kernelspec": {
   "display_name": "Python 3 (ipykernel)",
   "language": "python",
   "name": "python3"
  },
  "language_info": {
   "codemirror_mode": {
    "name": "ipython",
    "version": 3
   },
   "file_extension": ".py",
   "mimetype": "text/x-python",
   "name": "python",
   "nbconvert_exporter": "python",
   "pygments_lexer": "ipython3",
   "version": "3.10.10"
  }
 },
 "nbformat": 4,
 "nbformat_minor": 4
}
